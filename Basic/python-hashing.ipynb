{
 "cells": [
  {
   "cell_type": "markdown",
   "metadata": {},
   "source": [
    "# Python Hashing: From Basics to Advanced 🔐\n",
    "\n",
    "## Table of Contents\n",
    "1. [1. Basic Hashing Concepts](#1-basic-hashing-concepts)  \n",
    "2. [2. Dictionary and Hash Tables](#2-dictionary-and-hash-tables)  \n",
    "3. [3. Advanced Hashing with hashlib](#3-advanced-hashing-with-hashlib)  \n",
    "4. [4. Hash Collisions](#4-hash-collisions)  \n",
    "5. [5. Practice Projects](#5-practice-projects)"
   ]
  },
  {
   "cell_type": "markdown",
   "metadata": {},
   "source": [
    "## 1. Basic Hashing Concepts\n",
    "\n",
    "Hashing transforms input data into a fixed-size string of characters. Think of it like a fingerprint - each input gets a unique identifier.\n",
    "\n",
    "Key features:\n",
    "- One-way process (can't reverse it)\n",
    "- Same input = Same hash\n",
    "- Different inputs (usually) = Different hashes\n",
    "- Fixed output length"
   ]
  },
  {
   "cell_type": "code",
   "execution_count": null,
   "metadata": {},
   "outputs": [],
   "source": [
    "# Basic hashing examples\n",
    "print(\"Hashing integers:\")\n",
    "print(f\"hash(10) = {hash(10)}\")\n",
    "\n",
    "print(\"\\nHashing strings:\")\n",
    "print(f\"hash('Hello') = {hash('Hello')}\")\n",
    "\n",
    "print(\"\\nHashing tuples:\")\n",
    "print(f\"hash((1, 2, 'Python')) = {hash((1, 2, 'Python'))}\")\n",
    "\n",
    "# Try hashing a list (will raise TypeError)\n",
    "try:\n",
    "    hash([1, 2, 3])\n",
    "except TypeError as e:\n",
    "    print(f\"\\nError hashing list: {e}\")"
   ]
  },
  {
   "cell_type": "markdown",
   "metadata": {},
   "source": [
    "## 2. Dictionary and Hash Tables\n",
    "\n",
    "Dictionaries use hashing internally for fast lookups. Only immutable objects can be dictionary keys."
   ]
  },
  {
   "cell_type": "code",
   "execution_count": null,
   "metadata": {},
   "outputs": [],
   "source": [
    "# Dictionary example\n",
    "fruit_prices = {\n",
    "    'apple': 1.2,  # 'apple' is hashed to find storage location\n",
    "    'orange': 0.8,\n",
    "    'pear': 1.5\n",
    "}\n",
    "\n",
    "print(f\"Apple price: ${fruit_prices['apple']}\")\n",
    "\n",
    "# Using tuples as keys (because they're immutable)\n",
    "coordinates = {\n",
    "    (0, 0): 'Origin',\n",
    "    (1, 0): 'Right',\n",
    "    (0, 1): 'Up'\n",
    "}\n",
    "\n",
    "print(f\"Point (0,0) is: {coordinates[(0, 0)]}\")"
   ]
  },
  {
   "cell_type": "markdown",
   "metadata": {},
   "source": [
    "## 3. Advanced Hashing with hashlib"
   ]
  },
  {
   "cell_type": "markdown",
   "metadata": {},
   "source": [
    "### Common Hash Functions in hashlib:\n",
    "•\t**md5**: Fast but insecure (avoid using for security-critical tasks). \\\n",
    "•\t**sha1**: Better but considered weak for security.\\\n",
    "•\t**sha256** and **sha512**: Secure and widely used.\\\n",
    "• **sha3_256** and **sha3_512** (Part of the SHA-3 family, modern and secure)\\\n",
    "•\t**blake2b**: Very fast, secure alternative."
   ]
  },
  {
   "cell_type": "code",
   "execution_count": 10,
   "metadata": {},
   "outputs": [],
   "source": [
    "import hashlib\n",
    "\n",
    "# Input text\n",
    "text = \"Hello, World!\"\n",
    "\n",
    "# MD5 (Not secure for passwords!)\n",
    "md5_hash = hashlib.md5(text.encode()).hexdigest()\n",
    "print(f\"MD5:        {md5_hash}\")\n",
    "\n",
    "# SHA-1 (Considered weak)\n",
    "sha1_hash = hashlib.sha1(text.encode()).hexdigest()\n",
    "print(f\"SHA-1:      {sha1_hash}\")\n",
    "\n",
    "# SHA-256 (Secure and widely used)\n",
    "sha256_hash = hashlib.sha256(text.encode()).hexdigest()\n",
    "print(f\"SHA-256:    {sha256_hash}\")\n",
    "\n",
    "# SHA-512 (More secure than SHA-256, produces a longer hash)\n",
    "sha512_hash = hashlib.sha512(text.encode()).hexdigest()\n",
    "print(f\"SHA-512:    {sha512_hash}\")\n",
    "\n",
    "# SHA3-256 (Part of the SHA-3 family, modern and secure)\n",
    "sha3_256_hash = hashlib.sha3_256(text.encode()).hexdigest()\n",
    "print(f\"SHA3-256:   {sha3_256_hash}\")\n",
    "\n",
    "# SHA3-512 (Part of the SHA-3 family, produces longer hashes)\n",
    "sha3_512_hash = hashlib.sha3_512(text.encode()).hexdigest()\n",
    "print(f\"SHA3-512:   {sha3_512_hash}\")\n",
    "\n",
    "# BLAKE2b (Fast, secure, and modern alternative)\n",
    "blake2b_hash = hashlib.blake2b(text.encode()).hexdigest()\n",
    "print(f\"BLAKE2b:    {blake2b_hash}\")"
   ]
  },
  {
   "cell_type": "markdown",
   "metadata": {},
   "source": [
    "## 4. Hash Collisions\n",
    "\n",
    "A hash collision occurs when two different inputs produce the same hash value. Modern cryptographic hash functions like sha256 are designed to minimize this risk."
   ]
  },
  {
   "cell_type": "markdown",
   "metadata": {},
   "source": [
    "### 4.1 Collisions examples"
   ]
  },
  {
   "cell_type": "code",
   "execution_count": 1,
   "metadata": {},
   "outputs": [],
   "source": [
    "import hashlib\n",
    "\n",
    "# Two different inputs with the same MD5 hash (known example)\n",
    "input1 = \"d131dd02c5e6eec4\"\n",
    "input2 = \"d131dd02c5e6eec5\"\n",
    "\n",
    "hash1 = hashlib.md5(input1.encode()).hexdigest()\n",
    "hash2 = hashlib.md5(input2.encode()).hexdigest()\n",
    "\n",
    "print(hash1)  # Output: 764796a22b1e6a42c41f354e0e1ecf70\n",
    "print(hash2)  # Output: 764796a22b1e6a42c41f354e0e1ecf70 (Collision!)"
   ]
  },
  {
   "cell_type": "markdown",
   "metadata": {},
   "source": [
    "### 4.2 How to Handle Collisions:\n",
    "\n",
    "Storing raw passwords is risky. If the database is compromised, attackers could steal the passwords. Instead, store hashed passwords.\n",
    "\n",
    "\n",
    "1. Use a stronger hash function:\n",
    "\t•\tSwitch from md5 or sha1 to sha256 or sha3.\n",
    "\n",
    "2.\tSalt the input:\n",
    "\t•\tAdd randomness to your hash input to prevent identical hashes(even if two users have the same password)\n",
    "\n",
    "3. Use Other libraries:\n",
    " • Argon2: is a modern and secure password hashing function (**Best Bractice**) \\\n",
    " • HMAC (Hash-based Message Authentication Code): adds a key to the hashing process for extra security\n",
    "\n",
    "\tNote: Use ```pip install argon2-cffi``` to install Argon2\n"
   ]
  },
  {
   "cell_type": "code",
   "execution_count": 9,
   "metadata": {},
   "outputs": [],
   "source": [
    "import hashlib\n",
    "import os\n",
    "\n",
    "password = \"password123\"\n",
    "\n",
    "### Hash without salt\n",
    "hash1 = hashlib.sha256(password.encode()).hexdigest()\n",
    "hash2 = hashlib.sha256(password.encode()).hexdigest()\n",
    "print(\"Hash without Salting\",hash1 == hash2)  # Output: True (Hashes are identical and predictable!)\n",
    "\n",
    "### Hash with salt\n",
    "salt1 = os.urandom(16)\n",
    "salt2 = os.urandom(16)\n",
    "hash1 = hashlib.sha256(salt1 + password.encode()).hexdigest()\n",
    "hash2 = hashlib.sha256(salt2 + password.encode()).hexdigest()\n",
    "print(\"Salting :\",hash1 == hash2)  # Output: False (Unique hashes due to different salts)\n",
    "\n",
    "### Generating an HMAC\n",
    "import hmac\n",
    "key = b'secret_key'\n",
    "message = b\"hello world\"\n",
    "hmac_object = hmac.new(key, message, hashlib.sha256)\n",
    "print(\"Hmac \",hmac_object.hexdigest())  # Output: HMAC value\n",
    "\n",
    "### Argon2 Hashing\n",
    "from argon2 import PasswordHasher\n",
    "ph = PasswordHasher()\n",
    "\n",
    "# Hash a password\n",
    "hashed_password = ph.hash(\"securepassword123\")\n",
    "print(\"Argon2:\", hashed_password)\n",
    "# Verify the password\n",
    "try:\n",
    "    ph.verify(hashed_password, \"securepassword123\")\n",
    "    print(\"Password verified!\")\n",
    "except:\n",
    "    print(\"Invalid password!\")"
   ]
  },
  {
   "cell_type": "markdown",
   "metadata": {},
   "source": [
    "### 4.3 Security Applications "
   ]
  },
  {
   "cell_type": "code",
   "execution_count": 3,
   "metadata": {},
   "outputs": [],
   "source": [
    "import hashlib\n",
    "import os\n",
    "\n",
    "def hash_password(password):\n",
    "    \"\"\"Secure password hashing with salt\"\"\"\n",
    "    # Generate random salt\n",
    "    salt = os.urandom(16)\n",
    "    # Hash password with salt\n",
    "    hash_obj = hashlib.pbkdf2_hmac(\n",
    "        'sha256',\n",
    "        password.encode(),\n",
    "        salt,\n",
    "        100000  # Number of iterations\n",
    "    )\n",
    "    return salt, hash_obj\n",
    "\n",
    "def verify_password(stored_salt, stored_hash, password):\n",
    "    \"\"\"Verify a password against stored hash\"\"\"\n",
    "    hash_obj = hashlib.pbkdf2_hmac(\n",
    "        'sha256',\n",
    "        password.encode(),\n",
    "        stored_salt,\n",
    "        100000\n",
    "    )\n",
    "    return stored_hash == hash_obj\n",
    "\n",
    "# Example usage\n",
    "password = \"MySecurePassword123\"\n",
    "salt, hash_value = hash_password(password)\n",
    "print(f\"Original Password: {password}\")\n",
    "print(f\"Salt (hex): {salt.hex()}\")\n",
    "print(f\"Hash (hex): {hash_value.hex()}\")\n",
    "\n",
    "# Verify password\n",
    "is_valid = verify_password(salt, hash_value, password)\n",
    "print(f\"\\nPassword verification: {'✅ Success' if is_valid else '❌ Failed'}\")"
   ]
  },
  {
   "cell_type": "markdown",
   "metadata": {},
   "source": [
    "## 5. Practice Projects"
   ]
  },
  {
   "cell_type": "markdown",
   "metadata": {},
   "source": [
    "### 5.1 File Integrity Checker"
   ]
  },
  {
   "cell_type": "code",
   "execution_count": null,
   "metadata": {},
   "outputs": [],
   "source": [
    "def calculate_file_hash(filename):\n",
    "    \"\"\"Calculate SHA-256 hash of a file\"\"\"\n",
    "    sha256 = hashlib.sha256()\n",
    "    with open(filename, 'rb') as f:\n",
    "        for block in iter(lambda: f.read(4096), b''):\n",
    "            sha256.update(block)\n",
    "    return sha256.hexdigest()\n",
    "\n",
    "# Example usage (create a test file first):\n",
    "with open('test.txt', 'w') as f:\n",
    "    f.write('Test content')\n",
    "\n",
    "original_hash = calculate_file_hash('test.txt')\n",
    "print(f\"File hash: {original_hash}\")\n",
    "\n",
    "# Verify file hasn't changed\n",
    "current_hash = calculate_file_hash('test.txt')\n",
    "print(f\"File integrity check: {'✅ Passed' if current_hash == original_hash else '❌ Failed'}\")"
   ]
  },
  {
   "cell_type": "markdown",
   "metadata": {},
   "source": [
    "### 5.2 Simple Password Manager"
   ]
  },
  {
   "cell_type": "code",
   "execution_count": null,
   "metadata": {},
   "outputs": [],
   "source": [
    "# Project 2: Simple Password Manager\n",
    "class PasswordManager:\n",
    "    def __init__(self):\n",
    "        self.password_db = {}\n",
    "    \n",
    "    def add_password(self, username, password):\n",
    "        \"\"\"Store a new password\"\"\"\n",
    "        salt, hash_value = hash_password(password)\n",
    "        self.password_db[username] = (salt, hash_value)\n",
    "    \n",
    "    def verify_user(self, username, password):\n",
    "        \"\"\"Verify user's password\"\"\"\n",
    "        if username not in self.password_db:\n",
    "            return False\n",
    "        salt, stored_hash = self.password_db[username]\n",
    "        return verify_password(salt, stored_hash, password)\n",
    "\n",
    "# Example usage\n",
    "pm = PasswordManager()\n",
    "pm.add_password('alice', 'SecurePass123')\n",
    "\n",
    "# Test verification\n",
    "print(\"Correct password:\", pm.verify_user('alice', 'SecurePass123'))\n",
    "print(\"Wrong password:\", pm.verify_user('alice', 'WrongPass123'))"
   ]
  },
  {
   "cell_type": "markdown",
   "metadata": {
    "vscode": {
     "languageId": "markdown"
    }
   },
   "source": [
    "### 5.3 Simulating a Simple Blockchain"
   ]
  },
  {
   "cell_type": "code",
   "execution_count": 11,
   "metadata": {},
   "outputs": [],
   "source": [
    "import hashlib\n",
    "\n",
    "def create_block(data, prev_hash):\n",
    "    block = {\n",
    "        \"data\": data,\n",
    "        \"prev_hash\": prev_hash,\n",
    "        \"hash\": None\n",
    "    }\n",
    "    # Generate a hash for the block\n",
    "    block_string = f\"{block['data']}{block['prev_hash']}\"\n",
    "    block[\"hash\"] = hashlib.sha256(block_string.encode()).hexdigest()\n",
    "    return block\n",
    "\n",
    "# Create a chain\n",
    "genesis_block = create_block(\"Genesis Block\", \"0\")\n",
    "block2 = create_block(\"Block 2 Data\", genesis_block[\"hash\"])\n",
    "\n",
    "print(\"Genesis Block:\", genesis_block)\n",
    "print(\"Block 2:\", block2)\n"
   ]
  }
 ],
 "metadata": {
  "kernelspec": {
   "display_name": "Python 3",
   "language": "python",
   "name": "python3"
  },
  "language_info": {
   "codemirror_mode": {
    "name": "ipython",
    "version": 3
   },
   "file_extension": ".py",
   "mimetype": "text/x-python",
   "name": "python",
   "nbconvert_exporter": "python",
   "pygments_lexer": "ipython3",
   "version": "3.9.6"
  }
 },
 "nbformat": 4,
 "nbformat_minor": 4
}
