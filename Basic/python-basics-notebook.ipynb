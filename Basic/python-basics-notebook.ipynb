{
 "cells": [
  {
   "cell_type": "markdown",
   "metadata": {},
   "source": [
    "# Python Programming Basics: Data Structures and Algorithms\n",
    "\n",
    "This notebook provides a comprehensive introduction to fundamental Python programming concepts, including regular expressions, arrays, linked lists, and other essential data structures. Each section includes explanations, examples, and practical exercises.\n",
    "\n",
    "## Table of Contents\n",
    "1. Regular Expressions\n",
    "2. Lists and Array Operations\n",
    "3. Matrix Operations\n",
    "4. Linked Lists\n",
    "5. Queues and Stacks"
   ]
  },
  {
   "cell_type": "markdown",
   "metadata": {},
   "source": [
    "## Regular Expressions\n",
    "Regular expressions (regex) are powerful tools for pattern matching and text manipulation. Here are some common examples:"
   ]
  },
  {
   "cell_type": "markdown",
   "metadata": {},
   "source": [
    "### Phone Number Validation"
   ]
  },
  {
   "cell_type": "code",
   "execution_count": null,
   "metadata": {},
   "outputs": [],
   "source": [
    "import re\n",
    "\n",
    "# Pattern for exactly 10 digits\n",
    "phone_pattern = r'^\\d{10}$'\n",
    "\n",
    "# Test cases\n",
    "print(re.match(phone_pattern, '1234567890'))    # Match\n",
    "print(re.match(phone_pattern, '123-456-7890'))  # No match (contains hyphens)"
   ]
  },
  {
   "cell_type": "markdown",
   "metadata": {},
   "source": [
    "### Postal Code Validation"
   ]
  },
  {
   "cell_type": "code",
   "execution_count": null,
   "metadata": {},
   "outputs": [],
   "source": [
    "import re\n",
    "\n",
    "# Pattern for 3 or 5 digits\n",
    "postal_code_pattern = r'^\\d{3}(\\d{2})?$'\n",
    "\n",
    "# Test cases\n",
    "print(re.match(postal_code_pattern, '100'))    # Match (3 digits)\n",
    "print(re.match(postal_code_pattern, '10045'))  # Match (5 digits)\n",
    "print(re.match(postal_code_pattern, '100-45')) # No match (contains hyphen)"
   ]
  },
  {
   "cell_type": "markdown",
   "metadata": {},
   "source": [
    "### Text Replacement Examples"
   ]
  },
  {
   "cell_type": "code",
   "execution_count": null,
   "metadata": {},
   "outputs": [],
   "source": [
    "import re\n",
    "\n",
    "# Simple number replacement\n",
    "text1 = \"Hello, my number is 12345\"\n",
    "new_text1 = re.sub(r'\\d+', 'X', text1)\n",
    "print(f\"Original: {text1}\")\n",
    "print(f\"Modified: {new_text1}\")  # Output: Hello, my number is X\n",
    "\n",
    "# Phone number formatting\n",
    "text2 = \"Hello, my number is 123-456-7890\"\n",
    "new_text2 = re.sub(r'(\\d{3})-(\\d{3})-(\\d{4})', r'(\\1) \\2-\\3', text2)\n",
    "print(f\"Original: {text2}\")\n",
    "print(f\"Modified: {new_text2}\")  # Output: Hello, my number is (123) 456-7890"
   ]
  },
  {
   "cell_type": "markdown",
   "metadata": {},
   "source": [
    "## Lists and Array Operations\n",
    "\n",
    "### Basic Array Operations\n",
    "Arrays in Python are implemented using lists. While Python lists can contain multiple data types, we'll treat them as arrays for learning purposes."
   ]
  },
  {
   "cell_type": "code",
   "execution_count": null,
   "metadata": {},
   "outputs": [],
   "source": [
    "# Creating and manipulating arrays\n",
    "arr = [10, 20, 30, 40, 50]\n",
    "\n",
    "# 1. Accessing elements\n",
    "print(\"First element:\", arr[0])    # Access first element\n",
    "print(\"Last element:\", arr[-1])    # Access last element using negative index\n",
    "\n",
    "# 2. Traversing the array\n",
    "print(\"\\nTraversing the array:\")\n",
    "for num in arr:\n",
    "    print(num, end=\" \")\n",
    "\n",
    "# 3. Adding elements\n",
    "arr.append(60)                     # Add to end\n",
    "print(\"\\nAfter append:\", arr)\n",
    "\n",
    "arr.insert(2, 25)                 # Insert at specific position\n",
    "print(\"After insert:\", arr)\n",
    "\n",
    "# 4. Removing elements\n",
    "arr.remove(40)                    # Remove by value\n",
    "print(\"After remove:\", arr)\n",
    "\n",
    "arr.pop(1)                        # Remove by index\n",
    "print(\"After pop:\", arr)\n",
    "\n",
    "# 5. Searching\n",
    "if 30 in arr:\n",
    "    print(f\"30 is at index: {arr.index(30)}\")"
   ]
  },
  {
   "cell_type": "markdown",
   "metadata": {},
   "source": [
    "### Array Manipulation Exercises"
   ]
  },
  {
   "cell_type": "code",
   "execution_count": null,
   "metadata": {},
   "outputs": [],
   "source": [
    "def reverse_array(arr):\n",
    "    \"\"\"\n",
    "    Reverses the elements of an array in-place.\n",
    "    \"\"\"\n",
    "    left = 0\n",
    "    right = len(arr) - 1\n",
    "    \n",
    "    while left < right:\n",
    "        # Swap elements using multiple assignment\n",
    "        arr[left], arr[right] = arr[right], arr[left]\n",
    "        left += 1\n",
    "        right -= 1\n",
    "    return arr\n",
    "\n",
    "# Example usage\n",
    "array = [1, 2, 3, 4, 5]\n",
    "print(\"Original:\", array)\n",
    "reverse_array(array)\n",
    "print(\"Reversed:\", array)"
   ]
  },
  {
   "cell_type": "code",
   "execution_count": null,
   "metadata": {},
   "outputs": [],
   "source": [
    "def find_max_and_min(arr):\n",
    "    \"\"\"\n",
    "    Returns the maximum and minimum values in an array.\n",
    "    \"\"\"\n",
    "    if not arr:\n",
    "        raise ValueError(\"Array cannot be empty\")\n",
    "        \n",
    "    max_val = min_val = arr[0]\n",
    "    for num in arr:\n",
    "        if num > max_val:\n",
    "            max_val = num\n",
    "        if num < min_val:\n",
    "            min_val = num\n",
    "            \n",
    "    return max_val, min_val\n",
    "\n",
    "# Example usage\n",
    "array = [3, 1, 4, 1, 5, 9, 2, 6, 5]\n",
    "max_val, min_val = find_max_and_min(array)\n",
    "print(f\"Array: {array}\")\n",
    "print(f\"Maximum: {max_val}, Minimum: {min_val}\")"
   ]
  },
  {
   "cell_type": "markdown",
   "metadata": {},
   "source": [
    "## Matrix Operations"
   ]
  },
  {
   "cell_type": "code",
   "execution_count": null,
   "metadata": {},
   "outputs": [],
   "source": [
    "def add_matrices(matrix1, matrix2):\n",
    "    \"\"\"\n",
    "    Adds two matrices of the same dimensions.\n",
    "    Uses zip() for elegant matrix addition.\n",
    "    \"\"\"\n",
    "    if len(matrix1) != len(matrix2) or any(len(row1) != len(row2) \n",
    "                                          for row1, row2 in zip(matrix1, matrix2)):\n",
    "        raise ValueError(\"Matrices must have the same dimensions\")\n",
    "    \n",
    "    return [[a + b for a, b in zip(row1, row2)] \n",
    "            for row1, row2 in zip(matrix1, matrix2)]\n",
    "\n",
    "# Example usage\n",
    "matrix1 = [\n",
    "    [1, 2, 3],\n",
    "    [4, 5, 6],\n",
    "    [7, 8, 9]\n",
    "]\n",
    "matrix2 = [\n",
    "    [9, 8, 7],\n",
    "    [6, 5, 4],\n",
    "    [3, 2, 1]\n",
    "]\n",
    "\n",
    "result = add_matrices(matrix1, matrix2)\n",
    "print(\"Matrix 1:\", matrix1)\n",
    "print(\"Matrix 2:\", matrix2)\n",
    "print(\"Sum:\", result)"
   ]
  },
  {
   "cell_type": "markdown",
   "metadata": {},
   "source": [
    "## Linked Lists"
   ]
  },
  {
   "cell_type": "code",
   "execution_count": null,
   "metadata": {},
   "outputs": [],
   "source": [
    "class Node:\n",
    "    def __init__(self, data):\n",
    "        self.data = data\n",
    "        self.next = None\n",
    "    \n",
    "    def __repr__(self):\n",
    "        return str(self.data)\n",
    "\n",
    "class LinkedList:\n",
    "    def __init__(self):\n",
    "        self.head = None\n",
    "    \n",
    "    def __repr__(self):\n",
    "        nodes = []\n",
    "        current = self.head\n",
    "        while current:\n",
    "            nodes.append(str(current.data))\n",
    "            current = current.next\n",
    "        nodes.append(\"None\")\n",
    "        return \" -> \".join(nodes)\n",
    "    \n",
    "    def insert_at_end(self, data):\n",
    "        new_node = Node(data)\n",
    "        if not self.head:\n",
    "            self.head = new_node\n",
    "            return\n",
    "            \n",
    "        current = self.head\n",
    "        while current.next:\n",
    "            current = current.next\n",
    "        current.next = new_node\n",
    "    \n",
    "    def traverse(self):\n",
    "        current = self.head\n",
    "        while current:\n",
    "            print(f\"{current.data}\", end=\" -> \")\n",
    "            current = current.next\n",
    "        print(\"None\")\n",
    "    \n",
    "    def print_reverse(self):\n",
    "        \"\"\"\n",
    "        Prints the linked list in reverse order using a stack.\n",
    "        \"\"\"\n",
    "        stack = []\n",
    "        current = self.head\n",
    "        while current:\n",
    "            stack.append(current.data)\n",
    "            current = current.next\n",
    "            \n",
    "        while stack:\n",
    "            print(stack.pop(), end=\" <- \")\n",
    "        print(\"None\")\n",
    "\n",
    "# Example usage\n",
    "ll = LinkedList()\n",
    "ll.insert_at_end(\"A\")\n",
    "ll.insert_at_end(\"B\")\n",
    "ll.insert_at_end(\"C\")\n",
    "\n",
    "print(\"Forward traversal:\")\n",
    "ll.traverse()\n",
    "\n",
    "print(\"Reverse traversal:\")\n",
    "ll.print_reverse()"
   ]
  },
  {
   "cell_type": "markdown",
   "metadata": {},
   "source": [
    "## Queues and Stacks"
   ]
  },
  {
   "cell_type": "code",
   "execution_count": null,
   "metadata": {},
   "outputs": [],
   "source": [
    "from collections import deque\n",
    "\n",
    "# Creating a queue\n",
    "queue = deque()\n",
    "print(\"Empty queue:\", queue)\n",
    "\n",
    "# Adding elements (enqueue)\n",
    "queue.append(\"Mary\")\n",
    "queue.append(\"John\")\n",
    "queue.append(\"Susan\")\n",
    "print(\"After adding elements:\", queue)\n",
    "\n",
    "# Removing elements (dequeue)\n",
    "first_person = queue.popleft()\n",
    "print(f\"Removed: {first_person}\")\n",
    "print(\"Remaining queue:\", queue)"
   ]
  },
  {
   "cell_type": "code",
   "execution_count": null,
   "metadata": {},
   "outputs": [],
   "source": [
    "from collections import deque\n",
    "\n",
    "# Creating a stack (using a browser history example)\n",
    "history = deque()\n",
    "\n",
    "# Adding pages to history (push)\n",
    "history.append(\"Page 1\")\n",
    "history.append(\"Page 2\")\n",
    "history.append(\"Page 3\")\n",
    "print(\"History after visiting pages:\", history)\n",
    "\n",
    "# Going back in history (pop)\n",
    "last_page = history.pop()\n",
    "print(f\"Went back from: {last_page}\")\n",
    "print(\"Current history:\", history)"
   ]
  }
 ],
 "metadata": {
  "kernelspec": {
   "display_name": "Python 3",
   "language": "python",
   "name": "python3"
  },
  "language_info": {
   "codemirror_mode": {
    "name": "ipython",
    "version": 3
   },
   "file_extension": ".py",
   "mimetype": "text/x-python",
   "name": "python",
   "nbconvert_exporter": "python",
   "pygments_lexer": "ipython3",
   "version": "3.9.6"
  }
 },
 "nbformat": 4,
 "nbformat_minor": 2
}
